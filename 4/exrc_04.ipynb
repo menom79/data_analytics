{
 "cells": [
  {
   "cell_type": "markdown",
   "id": "ebabbbab-c235-4789-a004-14e69d06ec9d",
   "metadata": {},
   "source": [
    "# Data Analytics Spring 2024 &mdash; Exercises 4\n",
    "\n",
    "### A K M Mahmudul Haque (last modified: Fri Feb 23 at 14:xx -- round 3 models)\n",
    "\n",
    "- Five problems + round 3 peer review\n",
    "- Round 3 peer review deadline: **Tue Mar 5 at 12:00**\n",
    "- Problems deadline: **Tue Mar 12 at 12:00**\n",
    "- Theme: linear regression\n",
    "- Minor variations between users\n",
    "- **Make a copy of the original notebook** (right click & duplicate) and add your answers (new cells) there\n",
    "- Remember: maybe **no autosave** (so keep hitting that ctrl-s / cmd-s button)\n",
    "- Also: **quit working by stopping the server at https://jupyter.vle.fi/home**\n",
    "- Please make both your code and your notebook readable\n",
    "- When you are done, run the handin code cell at the end of this notebook\n",
    "- The original notebook may change after publication, but the\n",
    "  changes should be minor\n",
    "- Keep your originals up to date by running the code cell below:"
   ]
  },
  {
   "cell_type": "code",
   "execution_count": null,
   "id": "cde89ee5-64f7-4289-8065-d36dfc25c58d",
   "metadata": {},
   "outputs": [],
   "source": [
    "import os\n",
    "os.system('/usr/bin/bash /home/varpha/data_analytics/bin/config.sh');"
   ]
  },
  {
   "cell_type": "markdown",
   "id": "2722411d-45e4-4faa-bafa-06aa0d4bf31b",
   "metadata": {},
   "source": [
    "## Round 3 peer review\n",
    "\n",
    "**Deadline: Tue Mar 5 at 12:00**. Nothing new here!\n",
    "\n",
    "In case you handed in your round 03 exercises, your folder **private/exrc_03/peer_review** should contain an anonymous round 03 solutions notebook of another student. In addition, some model solutions for round 03 are to be found in the folder **public/model_solutions**.\n",
    "\n",
    "Write a few paragraphs of text (plain or markdown) into your favourite text editor and submit by running the code cell below. Please address the following issues:\n",
    " \n",
    "- Are the solutions okay? Can you understand / run the code?<br/>\n",
    "- What do you think about the solutions?\n",
    "- How many points out of 5 do they deserve as a whole?\n",
    "- How many points would you give to yourself and why?\n",
    "- Any feedback or comments to Harri?\n",
    "\n",
    "Harri will read and grade your reviews as follows:\n",
    "- nonexistent or nearly so = 0p\n",
    "- something written = 1-2p\n",
    "- well written 3p.\n",
    "\n",
    "When done with writing your review, please run the code cell below. It asks you to copy-paste your review text to a field that will become visible once you run the cell.\n"
   ]
  },
  {
   "cell_type": "code",
   "execution_count": null,
   "id": "fdc6fd62-ea3e-4158-a620-adf172f36093",
   "metadata": {},
   "outputs": [],
   "source": [
    "import sys\n",
    "sys.path.append('/home/varpha/data_analytics/lib')\n",
    "from handin import submit_peer_review\n",
    "submit_peer_review()"
   ]
  },
  {
   "cell_type": "markdown",
   "id": "c4d0309e-f6de-4a75-9a23-9d884e75c503",
   "metadata": {},
   "source": [
    "You may double check your review submission by running the following in the terminal (copy-paste & press enter):\n",
    "\n",
    "> **cat /home/varpha/data_analytics/private/AB0208/exrc_03/peer_review/review_by_AB0208.txt**"
   ]
  },
  {
   "cell_type": "markdown",
   "id": "2afe4d8d-c0fc-43f7-b336-3fc95dd0dd76",
   "metadata": {},
   "source": [
    "## Problem 1. Basic\n",
    "\n",
    "a) Write a function *least_square_fit* that takes two one-dimensional arrays x and y as parameters. The function should return a tuple (slope, intercept) of the fitted line. Write a main program that tests the *least_square_fit* function with some example arrays, and for each pair of arrays outputs the (slope, intercept) tuple.\n",
    "\n",
    "b) Modify your main function to plot a scatter plot of the data points along with the fitted line. Also display the values of the slope and intercept from part a) in the figure."
   ]
  },
  {
   "cell_type": "markdown",
   "id": "7c82629f-43fd-4272-a4a2-97addd6614b6",
   "metadata": {},
   "source": [
    "## Problem 2. Unknown data\n",
    "\n",
    "There is some unknown data in your **exrc_04/data/AB0208_unknown_data.csv**. All you know is that the first five columns are the features and the last column is the response. Use scikit-learn's LinearRegression to fit a linear model to this data: Implement a function *unknown_data* that reads the file, \"learns\", and returns the correlation coefficient for each of the five features. You don't have to fit the intercept. You also don't have to split the data. The main method should just print out the coefficient for each of the five features, and use all the data for \"training\". Do you think that some of the features could be dropped from the model? Why?"
   ]
  },
  {
   "cell_type": "markdown",
   "id": "30fc3925-ea46-4069-a059-1adc344dd929",
   "metadata": {
    "tags": []
   },
   "source": [
    "## Problem 3. Query\n",
    "\n",
    "File **exrc_04/data/AB0208_query.txt** has some fake customer survey data.\n",
    "\n",
    "a) Which of the other fields affects most on 'general satisfaction' and why? Use correlation coefficients.\n",
    "\n",
    "b) Fit a linear model using only the field found in a), then plot two plots:\n",
    "1. a scatter plot with general satisfaction against the field found in part a)\n",
    "2. a scatter plot with the \"actual\" and \"predicted\" general satisfaction values.\n",
    "\n",
    "Again, no splitting of data (use all the data for training).\n"
   ]
  },
  {
   "cell_type": "markdown",
   "id": "0670cdbf-167d-45b5-b2b3-24e1bc8ae4e6",
   "metadata": {},
   "source": [
    "## Problem 4. Housing, part 1\n",
    "\n",
    "The file **exrc_04/data/AB0208_houses.csv** has some fake data on sold houses.\n",
    "\n",
    "The data is taken from [Kaggle](https://www.kaggle.com/code/jnikhilsai/cross-validation-with-linear-regression) and randomized. The notebook will be available in our public folder as well.\n",
    "\n",
    "Prepare the data as in Section 1 of the Kaggle notebook: convert yes/no to 1/0, and add a dummy 1/0 variable to each of the furnishing status options.\n",
    "\n",
    "Split the data to 60% train, 40% test, and and fit a linear model to the train data, predicting the test data. (No advanced stuff expected here; just the standard.)\n",
    "\n",
    "Compare with a similar linear regression where only two explanatory variables is used. Plot real against predicted in both the above case (all the variables) and this case (two variables)."
   ]
  },
  {
   "cell_type": "markdown",
   "id": "33bf511d-2bff-4d3b-8cd3-2231732df527",
   "metadata": {},
   "source": [
    "## Problem 5. Housing, part 2\n",
    "\n",
    "Study the Kaggle notebook mentioned in the previous notebook. In your own style and examples, please explain what is meant by\n",
    "\n",
    "- Overfitting\n",
    "- RFE\n",
    "- K-fold CV.\n"
   ]
  },
  {
   "cell_type": "markdown",
   "id": "6cc0e70b-1a6e-40f7-aba7-d12ae5968d8a",
   "metadata": {},
   "source": [
    "## Handin your final answers by running the code cell below.\n",
    "- Save your latest changes first.\n",
    "- Please remove anything that may identify you to your anonymous reviewer. See [this Teams message](https://teams.microsoft.com/l/message/19:wpZLQbHG775XujahAR4ScrnPZGiByh6yuWgewJCHXVQ1@thread.tacv2/1675678597453?tenantId=6e9eaaf0-3ff7-4de9-8cd4-1ffbd45951b9&groupId=ba0bbd60-8a1b-42b8-84ff-6de6a3c45ab6&parentMessageId=1675678597453&teamName=Data%20Analytics%20YAMK%2C%20Spring%202023&channelName=General&createdTime=1675678597453&allowXTenantAccess=false).\n",
    "- You may run the code cell as many times as you wish.\n",
    "- Your permission to write the handin file ends at the deadline."
   ]
  },
  {
   "cell_type": "code",
   "execution_count": null,
   "id": "2e138532-a8ef-4ad6-9538-30756d495dcb",
   "metadata": {},
   "outputs": [],
   "source": [
    "import sys\n",
    "sys.path.append('/home/varpha/data_analytics/lib')\n",
    "from handin import handin_exrc_04\n",
    "handin_exrc_04()"
   ]
  }
 ],
 "metadata": {
  "kernelspec": {
   "display_name": "Python 3 (ipykernel)",
   "language": "python",
   "name": "python3"
  },
  "language_info": {
   "codemirror_mode": {
    "name": "ipython",
    "version": 3
   },
   "file_extension": ".py",
   "mimetype": "text/x-python",
   "name": "python",
   "nbconvert_exporter": "python",
   "pygments_lexer": "ipython3",
   "version": "3.9.13"
  },
  "toc-autonumbering": false,
  "toc-showcode": false,
  "toc-showmarkdowntxt": false
 },
 "nbformat": 4,
 "nbformat_minor": 5
}
