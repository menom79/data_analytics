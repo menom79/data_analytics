{
 "cells": [
  {
   "cell_type": "markdown",
   "id": "ebabbbab-c235-4789-a004-14e69d06ec9d",
   "metadata": {},
   "source": [
    "# Data Analytics Spring 2024 &mdash; Exercises 6\n",
    "\n",
    "### A K M Mahmudul Haque (last modified: Wed Mar 27 at 14:45)\n",
    "\n",
    "- Five problems + round 5 peer review\n",
    "- Round 5 peer review deadline: **Wed Apr 3 at noon**\n",
    "- Problems deadline: **Tue Apr 9 at noon**\n",
    "- Theme: classification\n",
    "- **Make a copy of the original notebook** (right click & duplicate) and add your answers (new cells) there\n",
    "- There may be no autosave\n",
    "- **ALWAYS quit working by stopping the server [here](https://jupyter.vle.fi/home), then close your browser tabs**\n",
    "- Please make both your code and your notebook readable\n",
    "- When you are done, run the handin code cell at the end of this notebook\n",
    "- The original notebook may change after publication, but the\n",
    "  changes should be minor\n",
    "- Keep your originals up to date by running the code cell below:"
   ]
  },
  {
   "cell_type": "code",
   "execution_count": null,
   "id": "cde89ee5-64f7-4289-8065-d36dfc25c58d",
   "metadata": {},
   "outputs": [],
   "source": [
    "import os\n",
    "os.system('/usr/bin/bash /home/varpha/data_analytics/bin/config.sh');"
   ]
  },
  {
   "cell_type": "markdown",
   "id": "2722411d-45e4-4faa-bafa-06aa0d4bf31b",
   "metadata": {},
   "source": [
    "## Round 5 peer review\n",
    "\n",
    "**Deadline: Mon Apr 2 at noon**. Nothing new here!\n",
    "\n",
    "In case you handed in your round 05 exercises, your folder **private/exrc_05/peer_review** should contain an anonymous round 05 solutions notebook of another student. In addition, some model solutions for round 05 are to be found in the folder **public/model_solutions**.\n",
    "\n",
    "Write a few paragraphs of text (plain or markdown) into your favourite text editor and submit by running the code cell below. Please address the following issues:\n",
    " \n",
    "- Are the solutions okay? Can you understand / run the code?<br/>\n",
    "- What do you think about the solutions?\n",
    "- How many points out of 5 do they deserve as a whole?\n",
    "- How many points would you give to yourself and why?\n",
    "- Any feedback or comments to Harri?\n",
    "\n",
    "Harri will read and grade your reviews as follows:\n",
    "- nonexistent or nearly so = 0p\n",
    "- something written = 1-2p\n",
    "- well written 3p.\n",
    "\n",
    "When done with writing your review, please run the code cell below. It asks you to copy-paste your review text to a field that will become visible once you run the cell.\n"
   ]
  },
  {
   "cell_type": "code",
   "execution_count": null,
   "id": "fdc6fd62-ea3e-4158-a620-adf172f36093",
   "metadata": {},
   "outputs": [],
   "source": [
    "import sys\n",
    "sys.path.append('/home/varpha/data_analytics/lib')\n",
    "from handin import submit_peer_review\n",
    "submit_peer_review()"
   ]
  },
  {
   "cell_type": "markdown",
   "id": "c4d0309e-f6de-4a75-9a23-9d884e75c503",
   "metadata": {},
   "source": [
    "You may double check your review submission by running the following in the terminal (copy-paste & press enter):\n",
    "\n",
    "> **cat /home/varpha/data_analytics/private/AB0208/exrc_05/peer_review/review_by_AB0208.txt**"
   ]
  },
  {
   "cell_type": "markdown",
   "id": "23999bfc-b6fa-4089-91e2-c95bb41571ea",
   "metadata": {},
   "source": [
    "\n",
    "### Problem 1. Wines\n",
    "\n",
    "\n",
    "[Here](https://student.labranet.jamk.fi/~varpha/data_analytics/exrc06p01_wine.csv) is some data on Portuguese wines. \n",
    "\n",
    "Drop rows with missing values.\n",
    "\n",
    "Use logistic regression to predict the type (white/red) from the other fields.\n",
    "\n",
    "Split train/test set 70/30 %. Print the score and the confusion matrix.\n"
   ]
  },
  {
   "cell_type": "markdown",
   "id": "5b19b7cb-bc2e-45b5-963d-0164e6cd1dab",
   "metadata": {
    "jp-MarkdownHeadingCollapsed": true,
    "tags": []
   },
   "source": [
    "### Problem 2. Voices\n",
    "[Here](https://student.labranet.jamk.fi/~varpha/data_analytics/exrc06p02_voice.csv) is some data on human voices ([column info](https://student.labranet.jamk.fi/~varpha/data_analytics/exrc06p02_voice.txt)).\n",
    " \n",
    "Predict the label from the other fields using a support vector machine.\n",
    "\n",
    "Split train/test set 70/30 %.\n",
    "\n",
    "Print the score and the confusion matrix.\n"
   ]
  },
  {
   "cell_type": "markdown",
   "id": "bd4fb28b-cd5c-415d-a097-7c34ef3d100b",
   "metadata": {},
   "source": [
    "### Problem 3. NBA\n",
    "[Here](https://student.labranet.jamk.fi/~varpha/data_analytics/exrc06p03_nba.csv) is some data on NBA basketball players in their first season ([column info](https://student.labranet.jamk.fi/~varpha/data_analytics/exrc06p03_nba.csv)).\n",
    "\n",
    "Last column tells if player's career has exceed 5 years or not.\n",
    "\n",
    "Fill missing values with the field median.\n",
    "\n",
    "Try to predict if the career has exceeded 5 years or not by using both logistic regression and a support vector machine. Print scores and confusion matrices. Split train/test data as you wish. Compare the results.\n"
   ]
  },
  {
   "cell_type": "markdown",
   "id": "f51fd27d-d8a2-4484-a0ec-7e3975f5a231",
   "metadata": {},
   "source": [
    "### Problem 4.  Mushrooms\n",
    "[Here](https://student.labranet.jamk.fi/~varpha/data_analytics/exrc06p04_mushrooms.csv) is some data on mushrooms ([column info](https://student.labranet.jamk.fi/~varpha/data_analytics/exrc06p04_mushrooms.txt)).\n",
    "\n",
    "Try to predict the class (edible or poisonous) from the other fields. Use whatever you want!\n",
    "\n",
    "Fields are categorial so one-hot-encoding is needed.\n"
   ]
  },
  {
   "cell_type": "markdown",
   "id": "e8c5bf1d-e219-4603-b803-e99e932c2195",
   "metadata": {},
   "source": [
    "### Problem 5. Loan status\n",
    "[Here](https://student.labranet.jamk.fi/~varpha/data_analytics/exrc06p05_loan.txt) is some data on loanees. Last column Loan_Status Y/N, should be predicted from the other field. Use whatever you want.  \n",
    "\n",
    "\n",
    "Do modifications:\n",
    "* Categorial fields to numeric (2-value fields to 0/1, multivalue as dummies)\n",
    "* replace missing values with median\n",
    "* remove rows with outliers: ApplicantIncome, CoapplicantIncome or LoanAmount over 3 standard deviations away from field average\n",
    "\n",
    "\n",
    "Check what would be model's probability to Loan_status = Yes with values:\n",
    "\n",
    "```\n",
    "Gender                   Male\n",
    "Married                    No\n",
    "Dependents                  0\n",
    "Education            Graduate\n",
    "Self_Employed              No\n",
    "ApplicantIncome          2400\n",
    "CoapplicantIncome        2000\n",
    "LoanAmount                 36\n",
    "Loan_Amount_Term          360\n",
    "Credit_History              1\n",
    "Property_Area           Urban\n",
    "```"
   ]
  },
  {
   "cell_type": "markdown",
   "id": "6cc0e70b-1a6e-40f7-aba7-d12ae5968d8a",
   "metadata": {},
   "source": [
    "## Handin your final answers by running the code cell below.\n",
    "- Save your latest changes.\n",
    "- Please remove anything that may identify you to your anonymous reviewer.\n",
    "- You may run the code cell as many times as you wish.\n",
    "- Your permission to write the handin file ends at the deadline."
   ]
  },
  {
   "cell_type": "code",
   "execution_count": null,
   "id": "2e138532-a8ef-4ad6-9538-30756d495dcb",
   "metadata": {},
   "outputs": [],
   "source": [
    "import sys\n",
    "sys.path.append('/home/varpha/data_analytics/lib')\n",
    "from handin import handin_exrc_06\n",
    "handin_exrc_06()"
   ]
  }
 ],
 "metadata": {
  "kernelspec": {
   "display_name": "Python 3 (ipykernel)",
   "language": "python",
   "name": "python3"
  },
  "language_info": {
   "codemirror_mode": {
    "name": "ipython",
    "version": 3
   },
   "file_extension": ".py",
   "mimetype": "text/x-python",
   "name": "python",
   "nbconvert_exporter": "python",
   "pygments_lexer": "ipython3",
   "version": "3.9.13"
  },
  "toc-autonumbering": false,
  "toc-showcode": false,
  "toc-showmarkdowntxt": false
 },
 "nbformat": 4,
 "nbformat_minor": 5
}
