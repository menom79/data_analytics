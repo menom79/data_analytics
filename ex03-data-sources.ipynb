{
 "cells": [
  {
   "cell_type": "markdown",
   "metadata": {},
   "source": [
    "## Exercise 3 - Data sources\n",
    "- All files used in this exercise can be found under the Exercises/data_files directory"
   ]
  },
  {
   "cell_type": "markdown",
   "metadata": {},
   "source": [
    "1 Use gamedata.json for this task. This file contains information of games sold through Steam. Parse out the following information from the data:\n",
    "- TOP 3 highest metacritic score. Present results using the following format: *Title* has metacritic score of *Score* (for example)\n",
    "- Games with price discount being 90 % or more. Present results using the following format: *Title* | Discount: *Savings* (for example Metal Gear Solid V: Ground Zeroes | Discount: 90.090090)\n",
    "- Games having metacritic score higher than steam score. Present results using the following format: *Title* has metacritic score of *MetacriticScore* and steam score of *SteamRatingPercent*"
   ]
  },
  {
   "cell_type": "markdown",
   "metadata": {},
   "source": [
    "2 Use earthquakes.csv for this task. This file contains information about earthquakes recorded between 1965 and 2016. Earthquake magnitude value describes how strong the earthquake is. Magnitude information can be categorized like presented in the table below (*Source: http://www.geo.mtu.edu/UPSeis/magnitude.html*).\n",
    "\n",
    "| Magnitude      | Class | Effects |\n",
    "|----------------|-------|---------|\n",
    "| 2.4 or less    | Minor | Usually not felt, but can be recorded by seismograph. |\n",
    "| 2.5 to 5.4     | Light | Often felt, but only causes minor damage. |\n",
    "| 5.5 to 6.0     | Moderate | Slight damage to buildings and other structures. |\n",
    "| 6.1 to 6.9     | Strong | May cause a lot of damage in very populated areas. |\n",
    "| 7.0 to 7.9     | Major | Major earthquake. Serious damage. |\n",
    "| 8.0 or greater | Great | Great earthquake. Can totally destroy communities near the epicenter. |\n",
    "\n",
    "Count how many earthquakes have occurred in each class.\n",
    "\n",
    "<b style=\"color:red;\">Notice:</b> The first value has been modified to be 2.4 or less compared to the original source (has been 2.5 or less)."
   ]
  },
  {
   "cell_type": "markdown",
   "metadata": {},
   "source": [
    "3 Use netflix_titles.xml for this task. This file contains information about Netflix movies and TV shows. **Important:** Movies have duration presented in minutes while TV shows have duration presented in amount of seasons! Parse out the following information from the data:\n",
    "- Movies released in 2017\n",
    "- TV show and movie amount (present both counts in separate lines)\n",
    "- Movies with a length between 15 and 20 minutes (values 15 and 20 included)"
   ]
  },
  {
   "cell_type": "markdown",
   "metadata": {},
   "source": [
    "4 Use the following Rest API for this task: https://tie.digitraffic.fi/api/v1/data/weather-data. Calculate the average for air temperature (ILMA) and humidity (ILMAN_KOSTEUS) values using two decimals."
   ]
  }
 ],
 "metadata": {
  "kernelspec": {
   "display_name": "Python 3.8.5 64-bit ('base': conda)",
   "name": "python385jvsc74a57bd08b50b686190c14b0a5176f7257ee24c43a886d1ffbaa1fefb478a1f90f0f3afb"
  },
  "language_info": {
   "codemirror_mode": {
    "name": "ipython",
    "version": 3
   },
   "file_extension": ".py",
   "mimetype": "text/x-python",
   "name": "python",
   "nbconvert_exporter": "python",
   "pygments_lexer": "ipython3",
   "version": "3.8.5"
  },
  "orig_nbformat": 2
 },
 "nbformat": 4,
 "nbformat_minor": 2
}
