{
 "cells": [
  {
   "cell_type": "markdown",
   "id": "ebabbbab-c235-4789-a004-14e69d06ec9d",
   "metadata": {
    "tags": []
   },
   "source": [
    "# Data Analytics Spring 2024 &mdash; Exercises 7\n",
    "\n",
    "### A K M Mahmudul Haque (last modified: Wed Apr 10 at 13:18)\n",
    "\n",
    "- **Two** problems + round 6 peer review\n",
    "- Peer review deadline: **Wed Apr 17 at 12:00**\n",
    "- Problems deadline: **Wed Apr 24 at 14:00**\n",
    "- Last Teams session: **Tue Apr 16 at 16:00**\n",
    "- Theme: SVD / PCA\n",
    "- **Make a copy of the original notebook** (right click & duplicate) and add your answers (new cells) there\n",
    "- There may be no autosave\n",
    "- **ALWAYS quit working by stopping the server [here](https://jupyter.vle.fi/home), then close your browser tabs**\n",
    "- Please make both your code and your notebook readable\n",
    "- When you are done, run the handin code cell at the end of this notebook\n",
    "- The original notebook may change after publication, but the\n",
    "  changes should be minor\n",
    "- Keep your originals up to date by running the code cell below:"
   ]
  },
  {
   "cell_type": "code",
   "execution_count": null,
   "id": "cde89ee5-64f7-4289-8065-d36dfc25c58d",
   "metadata": {},
   "outputs": [],
   "source": [
    "import os\n",
    "os.system('/usr/bin/bash /home/varpha/data_analytics/bin/config.sh');"
   ]
  },
  {
   "cell_type": "markdown",
   "id": "2722411d-45e4-4faa-bafa-06aa0d4bf31b",
   "metadata": {},
   "source": [
    "## Round 6 peer review\n",
    "\n",
    "In case you handed in your round 06 exercises, your folder **private/exrc_06/peer_review** should contain an anonymous round 06 solutions notebook of another student. In addition, some model solutions for round 06 are to be found in the folder **public/model_solutions**.\n",
    "\n",
    "Write a few paragraphs of text (plain or markdown) into your favourite text editor and submit by running the code cell below. Please address the following issues:\n",
    " \n",
    "- Are the solutions okay? Can you understand / run the code?<br/>\n",
    "- What do you think about the solutions?\n",
    "- How many points out of 5 do they deserve as a whole?\n",
    "- How many points would you give to yourself and why?\n",
    "- Any feedback or comments to Harri?\n",
    "\n",
    "Harri will read and grade your reviews as follows:\n",
    "- nonexistent or nearly so = 0p\n",
    "- something written = 1-2p\n",
    "- well written 3p.\n",
    "\n",
    "When done with writing your review, please run the code cell below. It asks you to copy-paste your review text to a field that will become visible once you run the cell.\n"
   ]
  },
  {
   "cell_type": "code",
   "execution_count": null,
   "id": "fdc6fd62-ea3e-4158-a620-adf172f36093",
   "metadata": {},
   "outputs": [],
   "source": [
    "import sys\n",
    "sys.path.append('/home/varpha/data_analytics/lib')\n",
    "from handin import submit_peer_review\n",
    "submit_peer_review()"
   ]
  },
  {
   "cell_type": "markdown",
   "id": "c4d0309e-f6de-4a75-9a23-9d884e75c503",
   "metadata": {},
   "source": [
    "You may double check your review submission by running the following in the terminal (copy-paste & press enter):\n",
    "\n",
    "> **cat /home/varpha/data_analytics/private/AB0208/exrc_06/peer_review/review_by_AB0208.txt**"
   ]
  },
  {
   "cell_type": "markdown",
   "id": "23999bfc-b6fa-4089-91e2-c95bb41571ea",
   "metadata": {
    "jp-MarkdownHeadingCollapsed": true,
    "tags": []
   },
   "source": [
    "### Problem 1. Mimic\n",
    "\n",
    "Apply the method in our `round_07_notes.ipynb` last example to an earlier regression / classification exercise of your own choice. The earlier exercise should have taken some time in fitting the model. Apply SVD/PCA to reduce the data dimensionality, and fit the model again. Compare the fitting times and the model scores. Explain to your peer.\n"
   ]
  },
  {
   "cell_type": "markdown",
   "id": "8996d05a-8096-4c33-b460-367a8005cbbd",
   "metadata": {},
   "source": [
    "### Problem 2. Forsyth, prob. 10.8\n",
    "\n",
    "The UC Irvine Machine Learning data archive hosts a dataset of measurements of abalone at https://archive.ics.uci.edu/ml/datasets/Abalone. Compute the principal components of all variables except Sex (i.e. ignore Sex from the data and compute the svd/pca using the rest of the data -- Harri). Now produce a scatter plot of the measurements projected onto the first two principal components, plotting an “m” for male abalone, an “f” for female abalone and an “i” for infants. (See [this](https://machinelearningmastery.com/principal-component-analysis-for-visualization) for an example about what the exercise is about. I'm not quite sure myself how to properly answer the following question, but the answer should probably be something along the lines of \"one sees clear structure in the data, whereas data projected onto the other components is just a mess\" -- Harri) What do you see?"
   ]
  },
  {
   "cell_type": "markdown",
   "id": "6cc0e70b-1a6e-40f7-aba7-d12ae5968d8a",
   "metadata": {},
   "source": [
    "## Handin your final answers by running the code cell below (script not open yet).\n",
    "- Save your latest changes.\n",
    "- Please remove anything that may identify you to your anonymous reviewer.\n",
    "- You may run the code cell as many times as you wish.\n",
    "- Your permission to write the handin file ends at the deadline."
   ]
  },
  {
   "cell_type": "code",
   "execution_count": null,
   "id": "2e138532-a8ef-4ad6-9538-30756d495dcb",
   "metadata": {},
   "outputs": [],
   "source": [
    "import sys\n",
    "sys.path.append('/home/varpha/data_analytics/lib')\n",
    "from handin import handin_exrc_07\n",
    "handin_exrc_07()"
   ]
  }
 ],
 "metadata": {
  "kernelspec": {
   "display_name": "Python 3 (ipykernel)",
   "language": "python",
   "name": "python3"
  },
  "language_info": {
   "codemirror_mode": {
    "name": "ipython",
    "version": 3
   },
   "file_extension": ".py",
   "mimetype": "text/x-python",
   "name": "python",
   "nbconvert_exporter": "python",
   "pygments_lexer": "ipython3",
   "version": "3.9.13"
  },
  "toc-autonumbering": false,
  "toc-showcode": false,
  "toc-showmarkdowntxt": false
 },
 "nbformat": 4,
 "nbformat_minor": 5
}
