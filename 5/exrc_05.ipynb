{
 "cells": [
  {
   "cell_type": "markdown",
   "id": "ebabbbab-c235-4789-a004-14e69d06ec9d",
   "metadata": {},
   "source": [
    "# Data Analytics Spring 2024 &mdash; Exercises 5\n",
    "\n",
    "### A K M Mahmudul Haque (last modified: Fri Mar  8 12:13:17 EET 2024)\n",
    "\n",
    "- (**Some new things here**)\n",
    "- Five problems + round 4 peer review\n",
    "- Round 4 peer review deadline: **Tue Mar 19 at noon**\n",
    "- Problems deadline: **Tue Mar 26 at noon**\n",
    "- Theme: time series\n",
    "- Minor variations between users\n",
    "- **Make a copy of the original notebook** (right click & duplicate) and add your answers (new cells) there\n",
    "- There may be no autosave\n",
    "- **Quit working by stopping the server [here](https://jupyter.vle.fi/home), then close your browser tabs**\n",
    "- Instead of the lab environment (an enhanced notebook environment), the [plain notebook environment](https://jupyter.vle.fi/user/AB0208/tree) may be more efficient.\n",
    "    - [lux](https://github.com/lux-org/lux) works only in the plain notebook environment\n",
    "    - animations work better in the plain notebook environment\n",
    "- Please make both your code and your notebook readable\n",
    "- When you are done, run the handin code cell at the end of this notebook\n",
    "- The original notebook may change after publication, but the\n",
    "  changes should be minor\n",
    "- Keep your originals up to date by running the code cell below:"
   ]
  },
  {
   "cell_type": "code",
   "execution_count": null,
   "id": "cde89ee5-64f7-4289-8065-d36dfc25c58d",
   "metadata": {},
   "outputs": [],
   "source": [
    "import os\n",
    "os.system('/usr/bin/bash /home/varpha/data_analytics/bin/config.sh');"
   ]
  },
  {
   "cell_type": "markdown",
   "id": "2722411d-45e4-4faa-bafa-06aa0d4bf31b",
   "metadata": {},
   "source": [
    "## Round 4 peer review\n",
    "\n",
    "**Deadline: Tue Mar 19 at noon**. Nothing new here!\n",
    "\n",
    "In case you handed in your round 04 exercises, your folder **private/exrc_04/peer_review** should contain an anonymous round 04 solutions notebook of another student. In addition, some model solutions for round 04 are to be found in the folder **public/model_solutions**.\n",
    "\n",
    "Write a few paragraphs of text (plain or markdown) into your favourite text editor and submit by running the code cell below. Please address the following issues:\n",
    " \n",
    "- Are the solutions okay? Can you understand / run the code?<br/>\n",
    "- What do you think about the solutions?\n",
    "- How many points out of 5 do they deserve as a whole?\n",
    "- How many points would you give to yourself and why?\n",
    "- Any feedback or comments to Harri?\n",
    "\n",
    "Harri will read and grade your reviews as follows:\n",
    "- nonexistent or nearly so = 0p\n",
    "- something written = 1-2p\n",
    "- well written 3p.\n",
    "\n",
    "When done with writing your review, please run the code cell below. (Not available until round 4 deadline.) It asks you to copy-paste your review text to a field that will become visible once you run the cell.\n"
   ]
  },
  {
   "cell_type": "code",
   "execution_count": null,
   "id": "fdc6fd62-ea3e-4158-a620-adf172f36093",
   "metadata": {},
   "outputs": [],
   "source": [
    "import sys\n",
    "sys.path.append('/home/varpha/data_analytics/lib')\n",
    "from handin import submit_peer_review\n",
    "submit_peer_review()"
   ]
  },
  {
   "cell_type": "markdown",
   "id": "c4d0309e-f6de-4a75-9a23-9d884e75c503",
   "metadata": {},
   "source": [
    "You may double check your review submission by running the following in the terminal (copy-paste & press enter):\n",
    "\n",
    "> **cat /home/varpha/data_analytics/private/AB0208/exrc_04/peer_review/review_by_AB0208.txt**"
   ]
  },
  {
   "cell_type": "markdown",
   "id": "23999bfc-b6fa-4089-91e2-c95bb41571ea",
   "metadata": {},
   "source": [
    "## Problem 1. Shifting\n",
    "The file\n",
    "\n",
    "    public/data/exrc_05/windmill_temperature.csv\n",
    "  \n",
    "contains a temperature timeseries measured from the top of a windmill at about 200 meters high.\n",
    "\n",
    "The file\n",
    "\n",
    "    public/data/exrc_05/fmi_temperature.csv\n",
    "    \n",
    "contains the corresponding [fmi](en.ilmatieteenlaitos.fi) temperature timeseries measured from a nearby station at 2 meters high, and about 30km away from the windmill.\n",
    "\n",
    "The windmill operator did not include any metadata, e.g. what is the timezone in the windmill data. Your task is to find out what is the difference (if any) in the timezones.\n",
    "\n",
    "**Note: This is not an easy task, and there is not a best method (unless we agree having found one)!**"
   ]
  },
  {
   "cell_type": "markdown",
   "id": "1c8d4ee4-da5a-4ef3-b6d8-6149f3230b8e",
   "metadata": {
    "jp-MarkdownHeadingCollapsed": true,
    "tags": []
   },
   "source": [
    "## Problem 2. Worktimes\n",
    "The file\n",
    "\n",
    "    public/data/exrc_05/harri_worktimes.json\n",
    "    \n",
    "contains Harri's [taskwarrior](https://taskwarrior.org) data from the start of the fall term teaching (2023-08-25) to the start of our weekend (2024-03-08 about noon). (The tags can be a bit messy... Harri needs to explain them a bit still... Although they don't matter much here. Also the timestamps are two hours off, but that's minor as well!)\n",
    "\n",
    "What has Harri worked on and how many hours? Please do this in the same spirit than the opening questionnaire thing in round 03... You just need to wrangle the timestamps and group by the tags. That's the minimum requirement for the point! Then something graphical or an \"ydata-profiling\" type thing would be nice too."
   ]
  },
  {
   "cell_type": "markdown",
   "id": "97f778d2-b293-44a9-a32d-ea8a1e6d87c5",
   "metadata": {},
   "source": [
    "## Problem 3. Sales\n",
    "\n",
    "(Most of this problem may already be done for you in the round 05 notes.)\n",
    "\n",
    "The file\n",
    "\n",
    "    private/exrc_05/data/AB0208_prob3_sales.csv\n",
    "\n",
    "contains some (fake) daily sales data.\n",
    "\n",
    "Please perform the following basic wranglings:\n",
    "\n",
    "- convert the date column to a standard datetime type (there may be several ways to do that)\n",
    "- index the dataframe by the date column\n",
    "- in the round 05 notes we used the **rolling** function but **let's forget about that**\n",
    "- using **resample** and **sum**, downsample the data from daily to a monthly frequency\n",
    "- shift the resampled data by one month to reflect the previous month's sales (i.e. your last \"monthly sales report\" should happen at March 2023 and be about Feb 2023)\n",
    "- plot a sales curve and calculate some descriptive statistics (feel free to do what you want here, doesn't need to be anything fancy).\n"
   ]
  },
  {
   "cell_type": "markdown",
   "id": "2cadcb6a-9599-47be-929a-f52b72b34c28",
   "metadata": {
    "jp-MarkdownHeadingCollapsed": true,
    "tags": []
   },
   "source": [
    "## Problem 4. Weather\n",
    "The file\n",
    "\n",
    "    private/exrc_05/data/AB0208_prob4_weather.csv\n",
    "   \n",
    "contains some hourly temperature forecast data for Jyväskylä (2023), downloaded from the Norwegian meterological institute.\n",
    "\n",
    "Train a seasonal arima model using this data, then make a forecast for the Jyväskylä temperature for Mon Mar 13, 2023.\n",
    "\n",
    "How was the forecast? What were the arima parameters that were used in the model?\n",
    "\n",
    "You may either mimic the champagne thing or use sktime."
   ]
  },
  {
   "cell_type": "markdown",
   "id": "8bb836e8-3624-4a07-b18f-dce40114e08e",
   "metadata": {},
   "source": [
    "## Problem 5. Stock\n",
    "\n",
    "The file\n",
    "\n",
    "    private/exrc_05/data/AB0208_prob5_IMMR.csv\n",
    "   \n",
    "contains some historical data for the stock [IMMR](https://finance.yahoo.com/quote/IMMR).\n",
    "\n",
    "By mimicing the procedure in [this notebook](https://github.com/jahangirmammadov/sarima/blob/master/Seasonal%20Time%20Series%20Analysis.ipynb), please produce a prediction about the stock. Then write a report about how it went.\n",
    "\n",
    "You may use just one column like opening / closing / high / low / volume etc. They are all included in order to make the data more realistic.\n"
   ]
  },
  {
   "cell_type": "markdown",
   "id": "67d1987c-6895-4974-84d5-2897cb32d29c",
   "metadata": {},
   "source": []
  },
  {
   "cell_type": "markdown",
   "id": "6cc0e70b-1a6e-40f7-aba7-d12ae5968d8a",
   "metadata": {},
   "source": [
    "## Handin your final answers by running the code cell below. (Not available until after round 4 deadline.)\n",
    "- Save your latest changes.\n",
    "- You may run the code cell as many times as you wish.\n",
    "- Your permission to write the handin file ends at the deadline."
   ]
  },
  {
   "cell_type": "code",
   "execution_count": null,
   "id": "2e138532-a8ef-4ad6-9538-30756d495dcb",
   "metadata": {},
   "outputs": [],
   "source": [
    "import sys\n",
    "sys.path.append('/home/varpha/data_analytics/lib')\n",
    "from handin import handin_exrc_05\n",
    "handin_exrc_05()"
   ]
  }
 ],
 "metadata": {
  "kernelspec": {
   "display_name": "Python 3 (ipykernel)",
   "language": "python",
   "name": "python3"
  },
  "language_info": {
   "codemirror_mode": {
    "name": "ipython",
    "version": 3
   },
   "file_extension": ".py",
   "mimetype": "text/x-python",
   "name": "python",
   "nbconvert_exporter": "python",
   "pygments_lexer": "ipython3",
   "version": "3.9.13"
  },
  "toc-autonumbering": false,
  "toc-showcode": false,
  "toc-showmarkdowntxt": false
 },
 "nbformat": 4,
 "nbformat_minor": 5
}
