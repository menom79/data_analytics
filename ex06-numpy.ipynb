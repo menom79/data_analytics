{
 "cells": [
  {
   "cell_type": "markdown",
   "metadata": {},
   "source": [
    "## Exercise 6 - Numpy"
   ]
  },
  {
   "cell_type": "markdown",
   "metadata": {},
   "source": [
    "1 Generate two NumPy arrays so that first array has integers from 10 to 40 (inclusive). Second array should have integers from 220 to 250 (inclusive). Sum these arrays and present the result array."
   ]
  },
  {
   "cell_type": "markdown",
   "metadata": {},
   "source": [
    "2 Generate two-dimensional array with 10 rows and 7 columns containing integers starting from 100."
   ]
  },
  {
   "attachments": {},
   "cell_type": "markdown",
   "metadata": {},
   "source": [
    "3 Generate two one-dimensional arrays having integers between 1-50. First array should have even and second array should have odd numbers. Finally multiply each element from corresponding index positions from these two arrays for the result array. For example [(1 x 2),(3 x 4),(5 x 6),(7 x 8)...]."
   ]
  },
  {
   "attachments": {},
   "cell_type": "markdown",
   "metadata": {},
   "source": [
    "4 Generate two-dimensional array (40 rows, 5 columns) containing random integers between 1 and 1000. Filter the result array so that only numbers divisable with numbers 2 and 5 are presented (number must be divisable with both)."
   ]
  }
 ],
 "metadata": {
  "kernelspec": {
   "display_name": "Python 3",
   "language": "python",
   "name": "python3"
  },
  "language_info": {
   "codemirror_mode": {
    "name": "ipython",
    "version": 3
   },
   "file_extension": ".py",
   "mimetype": "text/x-python",
   "name": "python",
   "nbconvert_exporter": "python",
   "pygments_lexer": "ipython3",
   "version": "3.9.7 (tags/v3.9.7:1016ef3, Aug 30 2021, 20:19:38) [MSC v.1929 64 bit (AMD64)]"
  },
  "orig_nbformat": 2,
  "vscode": {
   "interpreter": {
    "hash": "05cbb8e30cd2cbe161554e93617827c610928832f77224aad1765f5c87120ccf"
   }
  }
 },
 "nbformat": 4,
 "nbformat_minor": 2
}
